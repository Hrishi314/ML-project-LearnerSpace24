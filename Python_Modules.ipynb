{
 "cells": [
  {
   "cell_type": "code",
   "execution_count": 53,
   "id": "initial_id",
   "metadata": {
    "collapsed": true,
    "ExecuteTime": {
     "end_time": "2024-07-02T20:15:54.452618600Z",
     "start_time": "2024-07-02T20:15:54.432620800Z"
    }
   },
   "outputs": [
    {
     "name": "stdout",
     "output_type": "stream",
     "text": [
      "(1, 2)\n",
      "[[22 28]]\n",
      "Passed\n"
     ]
    }
   ],
   "source": [
    "import numpy as np\n",
    "# Create a 2D Numpy array of size 1x3 with elements of your choice\n",
    "arr1=np.array([1,2,3])#Your code here\n",
    "\n",
    "# Create a Numpy array of length 50 with zeroes as its elements\n",
    "arr2=np.zeros(50)#Your code here\n",
    "\n",
    "#Create a Numpy array of length 3x2 with elements of your choice\n",
    "arr3=np.array([[1,2],[3,4],[5,6]])#Your code here\n",
    "\n",
    "arr4=np.dot(arr1,arr3)#Multiply arr1 and arr3 using Numpy functions\n",
    "\n",
    "#Change 5th element of arr2 to a different number\n",
    "#Your code here\n",
    "arr2[4] = 1\n",
    "arr4 = arr4.reshape(1,2)\n",
    "print(np.shape(arr4))\n",
    "print(arr4)\n",
    "\n",
    "if np.shape(arr4)==(1,2) and arr2[4]!=0:\n",
    "  print(\"Passed\")\n",
    "else:\n",
    "  print(\"Fail\")"
   ]
  },
  {
   "cell_type": "code",
   "execution_count": 56,
   "outputs": [
    {
     "name": "stdout",
     "output_type": "stream",
     "text": [
      "[[10  1  1]\n",
      " [ 1 10  1]\n",
      " [ 1  1 10]]\n"
     ]
    }
   ],
   "source": [
    "#Task: Perform the dot product of I and 9I+1 using numpy, here I is referred to as an 3x3 Identity matrix.\n",
    "\n",
    "I = np.array([[1,0,0],[0,1,0],[0,0,1]])\n",
    "Matrix = 9*I + 1\n",
    "result = np.dot(I,Matrix)\n",
    "print(result)"
   ],
   "metadata": {
    "collapsed": false,
    "ExecuteTime": {
     "end_time": "2024-07-02T20:16:26.274898800Z",
     "start_time": "2024-07-02T20:16:26.154863100Z"
    }
   },
   "id": "5338972caccbf17e"
  },
  {
   "cell_type": "markdown",
   "source": [
    "Pandas Implemetation"
   ],
   "metadata": {
    "collapsed": false
   },
   "id": "85e3055857c1772d"
  },
  {
   "cell_type": "code",
   "execution_count": 57,
   "outputs": [],
   "source": [
    "import pandas as pd"
   ],
   "metadata": {
    "collapsed": false,
    "ExecuteTime": {
     "end_time": "2024-07-02T20:16:30.380581100Z",
     "start_time": "2024-07-02T20:16:30.370343600Z"
    }
   },
   "id": "7cf52fc95188bb7f"
  },
  {
   "cell_type": "code",
   "execution_count": 58,
   "outputs": [
    {
     "name": "stdout",
     "output_type": "stream",
     "text": [
      "     Name  Age       City\n",
      "0  Ramesh   25  Bangalore\n",
      "1  Mahesh   30     Mumbai\n"
     ]
    }
   ],
   "source": [
    "## Create a DataFrame from a dictionary\n",
    "data = {\n",
    "    'Name': ['Ramesh', 'Mahesh', 'Suresh'],\n",
    "    'Age': [25, 30, 35],\n",
    "    'City': ['Bangalore', 'Mumbai', 'Delhi']\n",
    "}\n",
    "#Your code here\n",
    "df = pd.DataFrame(data)\n",
    "#Display the first 2 rows of the data frame\n",
    "#Your code here\n",
    "print(df.head(2))\n"
   ],
   "metadata": {
    "collapsed": false,
    "ExecuteTime": {
     "end_time": "2024-07-02T20:17:55.882582500Z",
     "start_time": "2024-07-02T20:17:55.512411300Z"
    }
   },
   "id": "88fbc8900107ca22"
  },
  {
   "cell_type": "code",
   "execution_count": 59,
   "outputs": [
    {
     "name": "stdout",
     "output_type": "stream",
     "text": [
      "0    25\n",
      "1    30\n",
      "2    35\n",
      "Name: Age, dtype: int64\n"
     ]
    }
   ],
   "source": [
    "#Print the age column\n",
    "#Your code here\n",
    "print(df['Age'])"
   ],
   "metadata": {
    "collapsed": false,
    "ExecuteTime": {
     "end_time": "2024-07-02T20:17:59.195819800Z",
     "start_time": "2024-07-02T20:17:59.175822500Z"
    }
   },
   "id": "9d7d098b5bbb77"
  },
  {
   "cell_type": "code",
   "execution_count": 60,
   "outputs": [
    {
     "name": "stdout",
     "output_type": "stream",
     "text": [
      "     Name  Age    City\n",
      "1  Mahesh   30  Mumbai\n",
      "2  Suresh   35   Delhi\n"
     ]
    }
   ],
   "source": [
    "#Filter rows where age is greater than 26\n",
    "#Your code here\n",
    "age_greater_than_26 = df[df['Age'] > 26]\n",
    "print(age_greater_than_26)\n"
   ],
   "metadata": {
    "collapsed": false,
    "ExecuteTime": {
     "end_time": "2024-07-02T20:18:05.664292200Z",
     "start_time": "2024-07-02T20:18:05.624124500Z"
    }
   },
   "id": "86bc3d9f35a59f68"
  },
  {
   "cell_type": "code",
   "execution_count": 61,
   "outputs": [
    {
     "name": "stdout",
     "output_type": "stream",
     "text": [
      "     Name  Age       City Counrty\n",
      "0  Ramesh   25  Bangalore   India\n",
      "1  Mahesh   30     Mumbai   India\n",
      "2  Suresh   35      Delhi   India\n"
     ]
    }
   ],
   "source": [
    "#Add a new column 'Country' with the value 'India' for all rows\n",
    "#Your code here\n",
    "df['Counrty'] = 'India'\n",
    "print(df)"
   ],
   "metadata": {
    "collapsed": false,
    "ExecuteTime": {
     "end_time": "2024-07-02T20:18:08.431293200Z",
     "start_time": "2024-07-02T20:18:08.391091900Z"
    }
   },
   "id": "b0de92b19a9c6644"
  },
  {
   "cell_type": "code",
   "execution_count": 62,
   "outputs": [
    {
     "name": "stdout",
     "output_type": "stream",
     "text": [
      "     Name   Age       City\n",
      "0  Ramesh  25.0  Bangalore\n",
      "1  Mahesh   NaN     Mumbai\n",
      "2  Suresh  35.0      Delhi\n",
      "     Name   Age       City\n",
      "0  Ramesh  25.0  Bangalore\n",
      "1  Mahesh  30.0     Mumbai\n",
      "2  Suresh  35.0      Delhi\n"
     ]
    }
   ],
   "source": [
    "data1 = {\n",
    "    'Name': ['Ramesh', 'Mahesh', 'Suresh'],\n",
    "    'Age': [25, None, 35],\n",
    "    'City': ['Bangalore', 'Mumbai', 'Delhi']\n",
    "}\n",
    "\n",
    "df2= pd.DataFrame(data1)\n",
    "\n",
    "# Fill missing values in the 'Age' column with the mean age\n",
    "#Your code here\n",
    "print(df2)\n",
    "mean_age = df2['Age'].mean()\n",
    "df2['Age'].fillna(mean_age,inplace=True)\n",
    "print(df2)"
   ],
   "metadata": {
    "collapsed": false,
    "ExecuteTime": {
     "end_time": "2024-07-02T20:18:18.756380300Z",
     "start_time": "2024-07-02T20:18:18.707468500Z"
    }
   },
   "id": "57686587fcc844f3"
  },
  {
   "cell_type": "markdown",
   "source": [
    "Matplot Lib Implementation"
   ],
   "metadata": {
    "collapsed": false
   },
   "id": "8f645da80f9c3aaf"
  },
  {
   "cell_type": "code",
   "execution_count": 63,
   "outputs": [],
   "source": [
    "import matplotlib.pyplot as plt\n",
    "import numpy as np #numpy module. Fill your code"
   ],
   "metadata": {
    "collapsed": false,
    "ExecuteTime": {
     "end_time": "2024-07-02T20:18:42.699288300Z",
     "start_time": "2024-07-02T20:18:42.689251900Z"
    }
   },
   "id": "8c16eeab62273268"
  },
  {
   "cell_type": "code",
   "execution_count": 64,
   "outputs": [
    {
     "data": {
      "text/plain": "[<matplotlib.lines.Line2D at 0x1b0038d3940>]"
     },
     "execution_count": 64,
     "metadata": {},
     "output_type": "execute_result"
    },
    {
     "data": {
      "text/plain": "<Figure size 640x480 with 1 Axes>",
      "image/png": "[encoded data removed]"
     },
     "metadata": {},
     "output_type": "display_data"
    }
   ],
   "source": [
    "xpoints=np.array([1,2,3,4])\n",
    "ypoints=np.array([2,4,6,8])\n",
    "\n",
    "#Plot these points without drawing a line\n",
    "#Your code here\n",
    "plt.plot(xpoints,ypoints,marker = 'o',linestyle = '')"
   ],
   "metadata": {
    "collapsed": false,
    "ExecuteTime": {
     "end_time": "2024-07-02T20:18:45.558553900Z",
     "start_time": "2024-07-02T20:18:45.361372400Z"
    }
   },
   "id": "34a4ced285215ec9"
  },
  {
   "cell_type": "code",
   "execution_count": 65,
   "outputs": [
    {
     "data": {
      "text/plain": "[<matplotlib.lines.Line2D at 0x1b00394b760>]"
     },
     "execution_count": 65,
     "metadata": {},
     "output_type": "execute_result"
    },
    {
     "data": {
      "text/plain": "<Figure size 640x480 with 1 Axes>",
      "image/png": "[encoded data removed]"
     },
     "metadata": {},
     "output_type": "display_data"
    }
   ],
   "source": [
    "#Plotting with marker: Plot these points with a marker(Star marker)\n",
    "#Your code here\n",
    "plt.plot(xpoints,ypoints,marker = '*',linestyle = '')"
   ],
   "metadata": {
    "collapsed": false,
    "ExecuteTime": {
     "end_time": "2024-07-02T20:18:53.483861600Z",
     "start_time": "2024-07-02T20:18:52.727358100Z"
    }
   },
   "id": "d6da12bdb2a1d328"
  },
  {
   "cell_type": "code",
   "execution_count": 66,
   "outputs": [
    {
     "data": {
      "text/plain": "[<matplotlib.lines.Line2D at 0x1b00370c6a0>]"
     },
     "execution_count": 66,
     "metadata": {},
     "output_type": "execute_result"
    },
    {
     "data": {
      "text/plain": "<Figure size 640x480 with 1 Axes>",
      "image/png": "[encoded data removed]"
     },
     "metadata": {},
     "output_type": "display_data"
    }
   ],
   "source": [
    "#Using fmt format, add circular marker,red color and Dashed line\n",
    "#Your code here\n",
    "plt.plot(xpoints,ypoints,'r--o')"
   ],
   "metadata": {
    "collapsed": false,
    "ExecuteTime": {
     "end_time": "2024-07-02T20:19:00.511851400Z",
     "start_time": "2024-07-02T20:19:00.283332500Z"
    }
   },
   "id": "3306de18599a3383"
  },
  {
   "cell_type": "code",
   "execution_count": 67,
   "outputs": [
    {
     "data": {
      "text/plain": "Text(0, 0.5, 'Y Axis')"
     },
     "execution_count": 67,
     "metadata": {},
     "output_type": "execute_result"
    },
    {
     "data": {
      "text/plain": "<Figure size 640x480 with 1 Axes>",
      "image/png": "[encoded data removed]"
     },
     "metadata": {},
     "output_type": "display_data"
    }
   ],
   "source": [
    "#Add xlabel,ylabel and title for the plot.\n",
    "#Your code here\n",
    "plt.plot(xpoints,ypoints,'g-o')\n",
    "plt.xlabel('X Axis')\n",
    "plt.ylabel('Y Axis')\n"
   ],
   "metadata": {
    "collapsed": false,
    "ExecuteTime": {
     "end_time": "2024-07-02T20:19:13.086151300Z",
     "start_time": "2024-07-02T20:19:12.838509800Z"
    }
   },
   "id": "5cc02b5bf5ed04a5"
  },
  {
   "cell_type": "code",
   "execution_count": 68,
   "outputs": [
    {
     "data": {
      "text/plain": "<Figure size 640x480 with 1 Axes>",
      "image/png": "[encoded data removed]"
     },
     "metadata": {},
     "output_type": "display_data"
    }
   ],
   "source": [
    "#Create a scatter plot for xpoints and ypoints\n",
    "#Your code here\n",
    "plt.scatter(xpoints,ypoints)\n",
    "plt.show()"
   ],
   "metadata": {
    "collapsed": false,
    "ExecuteTime": {
     "end_time": "2024-07-02T20:19:30.925017200Z",
     "start_time": "2024-07-02T20:19:30.761003100Z"
    }
   },
   "id": "a9342a5faff5cc64"
  },
  {
   "cell_type": "code",
   "execution_count": 69,
   "outputs": [
    {
     "data": {
      "text/plain": "<Figure size 640x480 with 1 Axes>",
      "image/png": "[encoded data removed]"
     },
     "metadata": {},
     "output_type": "display_data"
    }
   ],
   "source": [
    "#Set color to the scatter plot. Blue,Green,Red and yellow color for each point respectively\n",
    "colours = ['Blue','Green', 'Red', 'Yellow']\n",
    "plt.scatter(xpoints,ypoints,c =colours)\n",
    "plt.show()"
   ],
   "metadata": {
    "collapsed": false,
    "ExecuteTime": {
     "end_time": "2024-07-02T20:19:35.333955200Z",
     "start_time": "2024-07-02T20:19:35.161547700Z"
    }
   },
   "id": "9f259e454dfe23b3"
  },
  {
   "cell_type": "markdown",
   "source": [
    "Miscellaneaous Implementation"
   ],
   "metadata": {
    "collapsed": false
   },
   "id": "3e787276248f3211"
  },
  {
   "cell_type": "code",
   "execution_count": 70,
   "outputs": [
    {
     "name": "stdout",
     "output_type": "stream",
     "text": [
      "[73 25 81 45]\n",
      "224\n"
     ]
    }
   ],
   "source": [
    "import random\n",
    "#Set the seed of random to 20\n",
    "#Your code here\n",
    "random.seed(20)\n",
    "arr1=np.array([1,24,31,45,73,81,94,25])\n",
    "\n",
    "#Using the random module pick 4 different random numbers from arr1 and return their sum.\n",
    "#Your code here\n",
    "choices = np.random.choice(arr1,replace=False,size=4)\n",
    "print(choices)\n",
    "sum = 0\n",
    "for num in choices:\n",
    "    sum += num\n",
    "print(sum)"
   ],
   "metadata": {
    "collapsed": false,
    "ExecuteTime": {
     "end_time": "2024-07-02T20:19:42.635546700Z",
     "start_time": "2024-07-02T20:19:42.625582900Z"
    }
   },
   "id": "cd2999ece0a192e7"
  }
 ],
 "metadata": {
  "kernelspec": {
   "display_name": "Python 3",
   "language": "python",
   "name": "python3"
  },
  "language_info": {
   "codemirror_mode": {
    "name": "ipython",
    "version": 2
   },
   "file_extension": ".py",
   "mimetype": "text/x-python",
   "name": "python",
   "nbconvert_exporter": "python",
   "pygments_lexer": "ipython2",
   "version": "2.7.6"
  }
 },
 "nbformat": 4,
 "nbformat_minor": 5
}
